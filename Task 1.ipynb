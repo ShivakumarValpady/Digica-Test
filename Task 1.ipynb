{
 "cells": [
  {
   "cell_type": "code",
   "execution_count": 1,
   "metadata": {},
   "outputs": [],
   "source": [
    "import numpy as np\n",
    "import pandas as pd"
   ]
  },
  {
   "cell_type": "markdown",
   "metadata": {},
   "source": [
    "##### Task 1: Opens attached CSV file"
   ]
  },
  {
   "cell_type": "code",
   "execution_count": 2,
   "metadata": {},
   "outputs": [
    {
     "data": {
      "text/html": [
       "<div>\n",
       "<style scoped>\n",
       "    .dataframe tbody tr th:only-of-type {\n",
       "        vertical-align: middle;\n",
       "    }\n",
       "\n",
       "    .dataframe tbody tr th {\n",
       "        vertical-align: top;\n",
       "    }\n",
       "\n",
       "    .dataframe thead th {\n",
       "        text-align: right;\n",
       "    }\n",
       "</style>\n",
       "<table border=\"1\" class=\"dataframe\">\n",
       "  <thead>\n",
       "    <tr style=\"text-align: right;\">\n",
       "      <th></th>\n",
       "      <th>imie</th>\n",
       "      <th>nazwisko</th>\n",
       "      <th>data_urodzenia</th>\n",
       "    </tr>\n",
       "  </thead>\n",
       "  <tbody>\n",
       "    <tr>\n",
       "      <th>0</th>\n",
       "      <td>Jadwiga</td>\n",
       "      <td>Bilecka</td>\n",
       "      <td>01.01.1978</td>\n",
       "    </tr>\n",
       "    <tr>\n",
       "      <th>1</th>\n",
       "      <td>Rafal</td>\n",
       "      <td>Bobek</td>\n",
       "      <td>11.04.1978</td>\n",
       "    </tr>\n",
       "    <tr>\n",
       "      <th>2</th>\n",
       "      <td>Robert</td>\n",
       "      <td>Bobekowski</td>\n",
       "      <td>20.07.1978</td>\n",
       "    </tr>\n",
       "    <tr>\n",
       "      <th>3</th>\n",
       "      <td>Rafal</td>\n",
       "      <td>Bobikowski</td>\n",
       "      <td>28.10.1978</td>\n",
       "    </tr>\n",
       "    <tr>\n",
       "      <th>4</th>\n",
       "      <td>Rafal</td>\n",
       "      <td>Brobek</td>\n",
       "      <td>5.02.1979</td>\n",
       "    </tr>\n",
       "  </tbody>\n",
       "</table>\n",
       "</div>"
      ],
      "text/plain": [
       "      imie    nazwisko data_urodzenia\n",
       "0  Jadwiga     Bilecka     01.01.1978\n",
       "1    Rafal       Bobek     11.04.1978\n",
       "2   Robert  Bobekowski     20.07.1978\n",
       "3    Rafal  Bobikowski     28.10.1978\n",
       "4    Rafal      Brobek      5.02.1979"
      ]
     },
     "execution_count": 2,
     "metadata": {},
     "output_type": "execute_result"
    }
   ],
   "source": [
    "dataset = pd.read_csv('test.csv')\n",
    "dataset.head()"
   ]
  },
  {
   "cell_type": "code",
   "execution_count": 3,
   "metadata": {},
   "outputs": [
    {
     "name": "stdout",
     "output_type": "stream",
     "text": [
      "object\n"
     ]
    }
   ],
   "source": [
    "#dataset['data_urodzenia']\n",
    "print(dataset['data_urodzenia'].dtypes)"
   ]
  },
  {
   "cell_type": "code",
   "execution_count": 4,
   "metadata": {},
   "outputs": [],
   "source": [
    "from datetime import datetime,date,timedelta"
   ]
  },
  {
   "cell_type": "code",
   "execution_count": 5,
   "metadata": {},
   "outputs": [
    {
     "data": {
      "text/html": [
       "<div>\n",
       "<style scoped>\n",
       "    .dataframe tbody tr th:only-of-type {\n",
       "        vertical-align: middle;\n",
       "    }\n",
       "\n",
       "    .dataframe tbody tr th {\n",
       "        vertical-align: top;\n",
       "    }\n",
       "\n",
       "    .dataframe thead th {\n",
       "        text-align: right;\n",
       "    }\n",
       "</style>\n",
       "<table border=\"1\" class=\"dataframe\">\n",
       "  <thead>\n",
       "    <tr style=\"text-align: right;\">\n",
       "      <th></th>\n",
       "      <th>imie</th>\n",
       "      <th>nazwisko</th>\n",
       "      <th>data_urodzenia</th>\n",
       "    </tr>\n",
       "  </thead>\n",
       "  <tbody>\n",
       "    <tr>\n",
       "      <th>0</th>\n",
       "      <td>Jadwiga</td>\n",
       "      <td>Bilecka</td>\n",
       "      <td>1978-01-01</td>\n",
       "    </tr>\n",
       "    <tr>\n",
       "      <th>1</th>\n",
       "      <td>Rafal</td>\n",
       "      <td>Bobek</td>\n",
       "      <td>1978-11-04</td>\n",
       "    </tr>\n",
       "    <tr>\n",
       "      <th>2</th>\n",
       "      <td>Robert</td>\n",
       "      <td>Bobekowski</td>\n",
       "      <td>1978-07-20</td>\n",
       "    </tr>\n",
       "    <tr>\n",
       "      <th>3</th>\n",
       "      <td>Rafal</td>\n",
       "      <td>Bobikowski</td>\n",
       "      <td>1978-10-28</td>\n",
       "    </tr>\n",
       "    <tr>\n",
       "      <th>4</th>\n",
       "      <td>Rafal</td>\n",
       "      <td>Brobek</td>\n",
       "      <td>1979-05-02</td>\n",
       "    </tr>\n",
       "  </tbody>\n",
       "</table>\n",
       "</div>"
      ],
      "text/plain": [
       "      imie    nazwisko data_urodzenia\n",
       "0  Jadwiga     Bilecka     1978-01-01\n",
       "1    Rafal       Bobek     1978-11-04\n",
       "2   Robert  Bobekowski     1978-07-20\n",
       "3    Rafal  Bobikowski     1978-10-28\n",
       "4    Rafal      Brobek     1979-05-02"
      ]
     },
     "execution_count": 5,
     "metadata": {},
     "output_type": "execute_result"
    }
   ],
   "source": [
    "dataset['data_urodzenia'] = pd.to_datetime(dataset['data_urodzenia']) \n",
    "dataset.head()"
   ]
  },
  {
   "cell_type": "code",
   "execution_count": 6,
   "metadata": {},
   "outputs": [
    {
     "data": {
      "text/html": [
       "<div>\n",
       "<style scoped>\n",
       "    .dataframe tbody tr th:only-of-type {\n",
       "        vertical-align: middle;\n",
       "    }\n",
       "\n",
       "    .dataframe tbody tr th {\n",
       "        vertical-align: top;\n",
       "    }\n",
       "\n",
       "    .dataframe thead th {\n",
       "        text-align: right;\n",
       "    }\n",
       "</style>\n",
       "<table border=\"1\" class=\"dataframe\">\n",
       "  <thead>\n",
       "    <tr style=\"text-align: right;\">\n",
       "      <th></th>\n",
       "      <th>imie</th>\n",
       "      <th>nazwisko</th>\n",
       "      <th>data_urodzenia</th>\n",
       "    </tr>\n",
       "  </thead>\n",
       "  <tbody>\n",
       "    <tr>\n",
       "      <th>81</th>\n",
       "      <td>Krystyna</td>\n",
       "      <td>Polkowiak</td>\n",
       "      <td>2000-06-03</td>\n",
       "    </tr>\n",
       "    <tr>\n",
       "      <th>82</th>\n",
       "      <td>Wiktor</td>\n",
       "      <td>Proszak</td>\n",
       "      <td>2000-06-14</td>\n",
       "    </tr>\n",
       "    <tr>\n",
       "      <th>83</th>\n",
       "      <td>Andrzej</td>\n",
       "      <td>Robek</td>\n",
       "      <td>2000-09-22</td>\n",
       "    </tr>\n",
       "    <tr>\n",
       "      <th>84</th>\n",
       "      <td>Zbigniew</td>\n",
       "      <td>Rudak</td>\n",
       "      <td>2000-12-31</td>\n",
       "    </tr>\n",
       "    <tr>\n",
       "      <th>85</th>\n",
       "      <td>Barbara</td>\n",
       "      <td>Sadurski</td>\n",
       "      <td>2001-10-04</td>\n",
       "    </tr>\n",
       "    <tr>\n",
       "      <th>86</th>\n",
       "      <td>Marek</td>\n",
       "      <td>Sawek</td>\n",
       "      <td>2001-07-19</td>\n",
       "    </tr>\n",
       "    <tr>\n",
       "      <th>87</th>\n",
       "      <td>Robert</td>\n",
       "      <td>Sulik</td>\n",
       "      <td>2001-10-27</td>\n",
       "    </tr>\n",
       "    <tr>\n",
       "      <th>88</th>\n",
       "      <td>Zbigniew</td>\n",
       "      <td>Sulik</td>\n",
       "      <td>2002-04-02</td>\n",
       "    </tr>\n",
       "    <tr>\n",
       "      <th>89</th>\n",
       "      <td>Robert</td>\n",
       "      <td>Sulikowski</td>\n",
       "      <td>2002-05-15</td>\n",
       "    </tr>\n",
       "    <tr>\n",
       "      <th>90</th>\n",
       "      <td>Robert</td>\n",
       "      <td>Surma</td>\n",
       "      <td>2002-08-23</td>\n",
       "    </tr>\n",
       "    <tr>\n",
       "      <th>91</th>\n",
       "      <td>Robert</td>\n",
       "      <td>Surmak</td>\n",
       "      <td>2002-01-12</td>\n",
       "    </tr>\n",
       "    <tr>\n",
       "      <th>92</th>\n",
       "      <td>Wiktor</td>\n",
       "      <td>Suwald</td>\n",
       "      <td>2003-11-03</td>\n",
       "    </tr>\n",
       "    <tr>\n",
       "      <th>93</th>\n",
       "      <td>Michal</td>\n",
       "      <td>Szerka</td>\n",
       "      <td>2003-06-19</td>\n",
       "    </tr>\n",
       "    <tr>\n",
       "      <th>94</th>\n",
       "      <td>Tadeusz</td>\n",
       "      <td>Tomora</td>\n",
       "      <td>2003-09-27</td>\n",
       "    </tr>\n",
       "    <tr>\n",
       "      <th>95</th>\n",
       "      <td>Zbigniew</td>\n",
       "      <td>Trewirek</td>\n",
       "      <td>2004-05-01</td>\n",
       "    </tr>\n",
       "    <tr>\n",
       "      <th>96</th>\n",
       "      <td>Zbigniew</td>\n",
       "      <td>Twardzioch</td>\n",
       "      <td>2004-04-14</td>\n",
       "    </tr>\n",
       "    <tr>\n",
       "      <th>97</th>\n",
       "      <td>Andrzej</td>\n",
       "      <td>Twarnowski</td>\n",
       "      <td>2004-07-23</td>\n",
       "    </tr>\n",
       "    <tr>\n",
       "      <th>98</th>\n",
       "      <td>Tadeusz</td>\n",
       "      <td>Twomicki</td>\n",
       "      <td>2004-10-31</td>\n",
       "    </tr>\n",
       "    <tr>\n",
       "      <th>99</th>\n",
       "      <td>Michal</td>\n",
       "      <td>Wertyk</td>\n",
       "      <td>2005-08-02</td>\n",
       "    </tr>\n",
       "    <tr>\n",
       "      <th>100</th>\n",
       "      <td>Rafal</td>\n",
       "      <td>Wobek</td>\n",
       "      <td>2005-05-19</td>\n",
       "    </tr>\n",
       "    <tr>\n",
       "      <th>101</th>\n",
       "      <td>Tadeusz</td>\n",
       "      <td>Womor</td>\n",
       "      <td>2005-08-27</td>\n",
       "    </tr>\n",
       "    <tr>\n",
       "      <th>102</th>\n",
       "      <td>Robert</td>\n",
       "      <td>Wyszon</td>\n",
       "      <td>2005-05-12</td>\n",
       "    </tr>\n",
       "    <tr>\n",
       "      <th>103</th>\n",
       "      <td>Robert</td>\n",
       "      <td>Zamek</td>\n",
       "      <td>2006-03-15</td>\n",
       "    </tr>\n",
       "    <tr>\n",
       "      <th>104</th>\n",
       "      <td>Wiktor</td>\n",
       "      <td>Zamlcki</td>\n",
       "      <td>2006-06-23</td>\n",
       "    </tr>\n",
       "    <tr>\n",
       "      <th>105</th>\n",
       "      <td>Tadeusz</td>\n",
       "      <td>Zomornik</td>\n",
       "      <td>2006-01-10</td>\n",
       "    </tr>\n",
       "    <tr>\n",
       "      <th>106</th>\n",
       "      <td>Edward</td>\n",
       "      <td>Zeligowski</td>\n",
       "      <td>2007-09-01</td>\n",
       "    </tr>\n",
       "    <tr>\n",
       "      <th>107</th>\n",
       "      <td>Zbigniew</td>\n",
       "      <td>Zeligowski</td>\n",
       "      <td>2007-04-19</td>\n",
       "    </tr>\n",
       "  </tbody>\n",
       "</table>\n",
       "</div>"
      ],
      "text/plain": [
       "         imie    nazwisko data_urodzenia\n",
       "81   Krystyna   Polkowiak     2000-06-03\n",
       "82     Wiktor     Proszak     2000-06-14\n",
       "83    Andrzej       Robek     2000-09-22\n",
       "84   Zbigniew       Rudak     2000-12-31\n",
       "85    Barbara    Sadurski     2001-10-04\n",
       "86      Marek       Sawek     2001-07-19\n",
       "87     Robert       Sulik     2001-10-27\n",
       "88   Zbigniew       Sulik     2002-04-02\n",
       "89     Robert  Sulikowski     2002-05-15\n",
       "90     Robert       Surma     2002-08-23\n",
       "91     Robert      Surmak     2002-01-12\n",
       "92     Wiktor      Suwald     2003-11-03\n",
       "93     Michal      Szerka     2003-06-19\n",
       "94    Tadeusz      Tomora     2003-09-27\n",
       "95   Zbigniew    Trewirek     2004-05-01\n",
       "96   Zbigniew  Twardzioch     2004-04-14\n",
       "97    Andrzej  Twarnowski     2004-07-23\n",
       "98    Tadeusz    Twomicki     2004-10-31\n",
       "99     Michal      Wertyk     2005-08-02\n",
       "100     Rafal       Wobek     2005-05-19\n",
       "101   Tadeusz       Womor     2005-08-27\n",
       "102    Robert      Wyszon     2005-05-12\n",
       "103    Robert       Zamek     2006-03-15\n",
       "104    Wiktor     Zamlcki     2006-06-23\n",
       "105   Tadeusz    Zomornik     2006-01-10\n",
       "106    Edward  Zeligowski     2007-09-01\n",
       "107  Zbigniew  Zeligowski     2007-04-19"
      ]
     },
     "execution_count": 6,
     "metadata": {},
     "output_type": "execute_result"
    }
   ],
   "source": [
    "dob_dataset = dataset[dataset['data_urodzenia'] > pd.Timestamp(date(1999,12,31))]\n",
    "dob_dataset"
   ]
  },
  {
   "cell_type": "code",
   "execution_count": 7,
   "metadata": {},
   "outputs": [
    {
     "data": {
      "text/plain": [
       "27"
      ]
     },
     "execution_count": 7,
     "metadata": {},
     "output_type": "execute_result"
    }
   ],
   "source": [
    "dob_dataset['data_urodzenia'].count()"
   ]
  },
  {
   "cell_type": "markdown",
   "metadata": {},
   "source": [
    "#### so there are 27 people who are born after 1999-12-31"
   ]
  },
  {
   "cell_type": "code",
   "execution_count": null,
   "metadata": {},
   "outputs": [],
   "source": []
  },
  {
   "cell_type": "markdown",
   "metadata": {},
   "source": [
    "### Task 3: Prints all female names. Female name is the one that ends with \"a\". The names can't repeat themself."
   ]
  },
  {
   "cell_type": "markdown",
   "metadata": {},
   "source": [
    "#### Note: I did not know name ending with \"a\" for which it has to be considered. First name or Surname. \n",
    "#### I have done it for both and also a combination of those 2. "
   ]
  },
  {
   "cell_type": "code",
   "execution_count": 8,
   "metadata": {},
   "outputs": [
    {
     "data": {
      "text/plain": [
       "'R'"
      ]
     },
     "execution_count": 8,
     "metadata": {},
     "output_type": "execute_result"
    }
   ],
   "source": [
    "#dataset['imie'][1][0]"
   ]
  },
  {
   "cell_type": "markdown",
   "metadata": {},
   "source": [
    "### First considering the first name, column 1"
   ]
  },
  {
   "cell_type": "code",
   "execution_count": 9,
   "metadata": {},
   "outputs": [
    {
     "name": "stdout",
     "output_type": "stream",
     "text": [
      "Barbara\n",
      "Krystyna\n",
      "Liliana\n",
      "Katarzyna\n",
      "Pelagia\n",
      "Elwira\n",
      "Ewa\n",
      "Jolanta\n",
      "Jadwiga\n",
      "Kalina\n"
     ]
    }
   ],
   "source": [
    "first_names = set()\n",
    "\n",
    "for i in range(len(dataset)):\n",
    "    if dataset['imie'][i][-1] == 'a':\n",
    "        first_names.add(dataset['imie'][i])\n",
    "        \n",
    "for i in first_names:\n",
    "    print(i)"
   ]
  },
  {
   "cell_type": "markdown",
   "metadata": {},
   "source": [
    "### Now, considering the second name, column 2"
   ]
  },
  {
   "cell_type": "code",
   "execution_count": 10,
   "metadata": {},
   "outputs": [
    {
     "name": "stdout",
     "output_type": "stream",
     "text": [
      "Fulecka\n",
      "Griczan\n",
      "Fornal\n",
      "Pilecki\n",
      "Firlecka\n",
      "Jagiel\n",
      "Ciupala\n",
      "Sadurski\n",
      "Dawro\n",
      "Bilecka\n",
      "Kiszewska\n",
      "Niemota\n",
      "Filoecka\n",
      "Greczyn\n",
      "Maczynska\n",
      "Milecka\n",
      "Policka\n",
      "Masztaler\n",
      "Derilecka\n",
      "Policzawska\n",
      "Filbrecka\n",
      "Gruda\n",
      "Chrilecka\n",
      "Jelikowska\n",
      "Polkowiak\n",
      "Gilecka\n",
      "Fibiana\n",
      "Jolecka\n",
      "Filecka\n"
     ]
    }
   ],
   "source": [
    "last_names = set()\n",
    "\n",
    "for i in range(len(dataset)):\n",
    "    if dataset['imie'][i][-1] == 'a':\n",
    "        last_names.add(dataset['nazwisko'][i])\n",
    "        \n",
    "for i in last_names:\n",
    "    print(i)"
   ]
  },
  {
   "cell_type": "code",
   "execution_count": null,
   "metadata": {},
   "outputs": [],
   "source": []
  },
  {
   "cell_type": "markdown",
   "metadata": {},
   "source": [
    "#### Now, Here, I have the first names ending with a and the results has their last names along with it as well. "
   ]
  },
  {
   "cell_type": "code",
   "execution_count": 11,
   "metadata": {},
   "outputs": [
    {
     "name": "stdout",
     "output_type": "stream",
     "text": [
      "Jadwiga Chrilecka\n",
      "Jadwiga Firlecka\n",
      "Barbara Jagiel\n",
      "Jadwiga Jolecka\n",
      "Jadwiga Gilecka\n",
      "Barbara Kiszewska\n",
      "Katarzyna Dawro\n",
      "Ewa Masztaler\n",
      "Jolanta Filecka\n",
      "Barbara Gruda\n",
      "Barbara Fibiana\n",
      "Jadwiga Milecka\n",
      "Barbara Griczan\n",
      "Liliana Ciupala\n",
      "Ewa Niemota\n",
      "Krystyna Polkowiak\n",
      "Barbara Sadurski\n",
      "Jadwiga Fulecka\n",
      "Elwira Policzawska\n",
      "Barbara Jelikowska\n",
      "Kalina Filecka\n",
      "Jadwiga Derilecka\n",
      "Barbara Maczynska\n",
      "Jadwiga Filoecka\n",
      "Pelagia Greczyn\n",
      "Barbara Fornal\n",
      "Krystyna Policka\n",
      "Krystyna Pilecki\n",
      "Jadwiga Bilecka\n",
      "Jadwiga Filbrecka\n"
     ]
    }
   ],
   "source": [
    "full_names = set()\n",
    "\n",
    "for i in range(len(dataset)):\n",
    "    if dataset['imie'][i][-1] == 'a':\n",
    "        full_names.add(dataset['imie'][i] + \" \"+ dataset['nazwisko'][i])\n",
    "        \n",
    "for i in full_names:\n",
    "    print(i)"
   ]
  },
  {
   "cell_type": "markdown",
   "metadata": {},
   "source": [
    "### I have done all the cases, I did not know which column to consider. Please consider whichever case suits the best. "
   ]
  },
  {
   "cell_type": "code",
   "execution_count": null,
   "metadata": {},
   "outputs": [],
   "source": []
  },
  {
   "cell_type": "code",
   "execution_count": null,
   "metadata": {},
   "outputs": [],
   "source": []
  }
 ],
 "metadata": {
  "kernelspec": {
   "display_name": "Python 3",
   "language": "python",
   "name": "python3"
  },
  "language_info": {
   "codemirror_mode": {
    "name": "ipython",
    "version": 3
   },
   "file_extension": ".py",
   "mimetype": "text/x-python",
   "name": "python",
   "nbconvert_exporter": "python",
   "pygments_lexer": "ipython3",
   "version": "3.7.4"
  }
 },
 "nbformat": 4,
 "nbformat_minor": 4
}
